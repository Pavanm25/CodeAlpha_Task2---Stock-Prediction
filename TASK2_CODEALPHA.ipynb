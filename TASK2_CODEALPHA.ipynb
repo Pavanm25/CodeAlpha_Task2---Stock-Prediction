{
 "cells": [
  {
   "cell_type": "code",
   "execution_count": 4,
   "id": "1bc2dec8",
   "metadata": {},
   "outputs": [],
   "source": [
    "import numpy as np\n",
    "import pandas as pd\n",
    "import matplotlib.pyplot as plt\n",
    "import seaborn as sns\n",
    "from sklearn.preprocessing import MinMaxScaler\n",
    "from tensorflow.keras.models import Sequential\n",
    "from tensorflow.keras.layers import Dense, LSTM"
   ]
  },
  {
   "cell_type": "code",
   "execution_count": 5,
   "id": "002c060b",
   "metadata": {},
   "outputs": [],
   "source": [
    "df = pd.read_csv(\"C:\\\\Users\\\\Pavan.M\\\\Downloads\\\\archive (3)\\\\AAPL.csv\")"
   ]
  },
  {
   "cell_type": "code",
   "execution_count": 6,
   "id": "a8f9bd92",
   "metadata": {},
   "outputs": [
    {
     "data": {
      "text/html": [
       "<div>\n",
       "<style scoped>\n",
       "    .dataframe tbody tr th:only-of-type {\n",
       "        vertical-align: middle;\n",
       "    }\n",
       "\n",
       "    .dataframe tbody tr th {\n",
       "        vertical-align: top;\n",
       "    }\n",
       "\n",
       "    .dataframe thead th {\n",
       "        text-align: right;\n",
       "    }\n",
       "</style>\n",
       "<table border=\"1\" class=\"dataframe\">\n",
       "  <thead>\n",
       "    <tr style=\"text-align: right;\">\n",
       "      <th></th>\n",
       "      <th>Date</th>\n",
       "      <th>Open</th>\n",
       "      <th>High</th>\n",
       "      <th>Low</th>\n",
       "      <th>Close</th>\n",
       "      <th>Adj Close</th>\n",
       "      <th>Volume</th>\n",
       "    </tr>\n",
       "  </thead>\n",
       "  <tbody>\n",
       "    <tr>\n",
       "      <th>0</th>\n",
       "      <td>1980-12-12</td>\n",
       "      <td>0.128348</td>\n",
       "      <td>0.128906</td>\n",
       "      <td>0.128348</td>\n",
       "      <td>0.128348</td>\n",
       "      <td>0.100323</td>\n",
       "      <td>469033600</td>\n",
       "    </tr>\n",
       "    <tr>\n",
       "      <th>1</th>\n",
       "      <td>1980-12-15</td>\n",
       "      <td>0.122210</td>\n",
       "      <td>0.122210</td>\n",
       "      <td>0.121652</td>\n",
       "      <td>0.121652</td>\n",
       "      <td>0.095089</td>\n",
       "      <td>175884800</td>\n",
       "    </tr>\n",
       "    <tr>\n",
       "      <th>2</th>\n",
       "      <td>1980-12-16</td>\n",
       "      <td>0.113281</td>\n",
       "      <td>0.113281</td>\n",
       "      <td>0.112723</td>\n",
       "      <td>0.112723</td>\n",
       "      <td>0.088110</td>\n",
       "      <td>105728000</td>\n",
       "    </tr>\n",
       "    <tr>\n",
       "      <th>3</th>\n",
       "      <td>1980-12-17</td>\n",
       "      <td>0.115513</td>\n",
       "      <td>0.116071</td>\n",
       "      <td>0.115513</td>\n",
       "      <td>0.115513</td>\n",
       "      <td>0.090291</td>\n",
       "      <td>86441600</td>\n",
       "    </tr>\n",
       "    <tr>\n",
       "      <th>4</th>\n",
       "      <td>1980-12-18</td>\n",
       "      <td>0.118862</td>\n",
       "      <td>0.119420</td>\n",
       "      <td>0.118862</td>\n",
       "      <td>0.118862</td>\n",
       "      <td>0.092908</td>\n",
       "      <td>73449600</td>\n",
       "    </tr>\n",
       "    <tr>\n",
       "      <th>5</th>\n",
       "      <td>1980-12-19</td>\n",
       "      <td>0.126116</td>\n",
       "      <td>0.126674</td>\n",
       "      <td>0.126116</td>\n",
       "      <td>0.126116</td>\n",
       "      <td>0.098578</td>\n",
       "      <td>48630400</td>\n",
       "    </tr>\n",
       "    <tr>\n",
       "      <th>6</th>\n",
       "      <td>1980-12-22</td>\n",
       "      <td>0.132254</td>\n",
       "      <td>0.132813</td>\n",
       "      <td>0.132254</td>\n",
       "      <td>0.132254</td>\n",
       "      <td>0.103376</td>\n",
       "      <td>37363200</td>\n",
       "    </tr>\n",
       "    <tr>\n",
       "      <th>7</th>\n",
       "      <td>1980-12-23</td>\n",
       "      <td>0.137835</td>\n",
       "      <td>0.138393</td>\n",
       "      <td>0.137835</td>\n",
       "      <td>0.137835</td>\n",
       "      <td>0.107739</td>\n",
       "      <td>46950400</td>\n",
       "    </tr>\n",
       "    <tr>\n",
       "      <th>8</th>\n",
       "      <td>1980-12-24</td>\n",
       "      <td>0.145089</td>\n",
       "      <td>0.145647</td>\n",
       "      <td>0.145089</td>\n",
       "      <td>0.145089</td>\n",
       "      <td>0.113409</td>\n",
       "      <td>48003200</td>\n",
       "    </tr>\n",
       "    <tr>\n",
       "      <th>9</th>\n",
       "      <td>1980-12-26</td>\n",
       "      <td>0.158482</td>\n",
       "      <td>0.159040</td>\n",
       "      <td>0.158482</td>\n",
       "      <td>0.158482</td>\n",
       "      <td>0.123877</td>\n",
       "      <td>55574400</td>\n",
       "    </tr>\n",
       "    <tr>\n",
       "      <th>10</th>\n",
       "      <td>1980-12-29</td>\n",
       "      <td>0.160714</td>\n",
       "      <td>0.161272</td>\n",
       "      <td>0.160714</td>\n",
       "      <td>0.160714</td>\n",
       "      <td>0.125622</td>\n",
       "      <td>93161600</td>\n",
       "    </tr>\n",
       "    <tr>\n",
       "      <th>11</th>\n",
       "      <td>1980-12-30</td>\n",
       "      <td>0.157366</td>\n",
       "      <td>0.157366</td>\n",
       "      <td>0.156808</td>\n",
       "      <td>0.156808</td>\n",
       "      <td>0.122569</td>\n",
       "      <td>68880000</td>\n",
       "    </tr>\n",
       "    <tr>\n",
       "      <th>12</th>\n",
       "      <td>1980-12-31</td>\n",
       "      <td>0.152902</td>\n",
       "      <td>0.152902</td>\n",
       "      <td>0.152344</td>\n",
       "      <td>0.152344</td>\n",
       "      <td>0.119080</td>\n",
       "      <td>35750400</td>\n",
       "    </tr>\n",
       "    <tr>\n",
       "      <th>13</th>\n",
       "      <td>1981-01-02</td>\n",
       "      <td>0.154018</td>\n",
       "      <td>0.155134</td>\n",
       "      <td>0.154018</td>\n",
       "      <td>0.154018</td>\n",
       "      <td>0.120388</td>\n",
       "      <td>21660800</td>\n",
       "    </tr>\n",
       "    <tr>\n",
       "      <th>14</th>\n",
       "      <td>1981-01-05</td>\n",
       "      <td>0.151228</td>\n",
       "      <td>0.151228</td>\n",
       "      <td>0.150670</td>\n",
       "      <td>0.150670</td>\n",
       "      <td>0.117771</td>\n",
       "      <td>35728000</td>\n",
       "    </tr>\n",
       "    <tr>\n",
       "      <th>15</th>\n",
       "      <td>1981-01-06</td>\n",
       "      <td>0.144531</td>\n",
       "      <td>0.144531</td>\n",
       "      <td>0.143973</td>\n",
       "      <td>0.143973</td>\n",
       "      <td>0.112536</td>\n",
       "      <td>45158400</td>\n",
       "    </tr>\n",
       "    <tr>\n",
       "      <th>16</th>\n",
       "      <td>1981-01-07</td>\n",
       "      <td>0.138393</td>\n",
       "      <td>0.138393</td>\n",
       "      <td>0.137835</td>\n",
       "      <td>0.137835</td>\n",
       "      <td>0.107739</td>\n",
       "      <td>55686400</td>\n",
       "    </tr>\n",
       "    <tr>\n",
       "      <th>17</th>\n",
       "      <td>1981-01-08</td>\n",
       "      <td>0.135603</td>\n",
       "      <td>0.135603</td>\n",
       "      <td>0.135045</td>\n",
       "      <td>0.135045</td>\n",
       "      <td>0.105558</td>\n",
       "      <td>39827200</td>\n",
       "    </tr>\n",
       "    <tr>\n",
       "      <th>18</th>\n",
       "      <td>1981-01-09</td>\n",
       "      <td>0.142299</td>\n",
       "      <td>0.142857</td>\n",
       "      <td>0.142299</td>\n",
       "      <td>0.142299</td>\n",
       "      <td>0.111228</td>\n",
       "      <td>21504000</td>\n",
       "    </tr>\n",
       "    <tr>\n",
       "      <th>19</th>\n",
       "      <td>1981-01-12</td>\n",
       "      <td>0.142299</td>\n",
       "      <td>0.142299</td>\n",
       "      <td>0.141183</td>\n",
       "      <td>0.141183</td>\n",
       "      <td>0.110356</td>\n",
       "      <td>23699200</td>\n",
       "    </tr>\n",
       "  </tbody>\n",
       "</table>\n",
       "</div>"
      ],
      "text/plain": [
       "          Date      Open      High       Low     Close  Adj Close     Volume\n",
       "0   1980-12-12  0.128348  0.128906  0.128348  0.128348   0.100323  469033600\n",
       "1   1980-12-15  0.122210  0.122210  0.121652  0.121652   0.095089  175884800\n",
       "2   1980-12-16  0.113281  0.113281  0.112723  0.112723   0.088110  105728000\n",
       "3   1980-12-17  0.115513  0.116071  0.115513  0.115513   0.090291   86441600\n",
       "4   1980-12-18  0.118862  0.119420  0.118862  0.118862   0.092908   73449600\n",
       "5   1980-12-19  0.126116  0.126674  0.126116  0.126116   0.098578   48630400\n",
       "6   1980-12-22  0.132254  0.132813  0.132254  0.132254   0.103376   37363200\n",
       "7   1980-12-23  0.137835  0.138393  0.137835  0.137835   0.107739   46950400\n",
       "8   1980-12-24  0.145089  0.145647  0.145089  0.145089   0.113409   48003200\n",
       "9   1980-12-26  0.158482  0.159040  0.158482  0.158482   0.123877   55574400\n",
       "10  1980-12-29  0.160714  0.161272  0.160714  0.160714   0.125622   93161600\n",
       "11  1980-12-30  0.157366  0.157366  0.156808  0.156808   0.122569   68880000\n",
       "12  1980-12-31  0.152902  0.152902  0.152344  0.152344   0.119080   35750400\n",
       "13  1981-01-02  0.154018  0.155134  0.154018  0.154018   0.120388   21660800\n",
       "14  1981-01-05  0.151228  0.151228  0.150670  0.150670   0.117771   35728000\n",
       "15  1981-01-06  0.144531  0.144531  0.143973  0.143973   0.112536   45158400\n",
       "16  1981-01-07  0.138393  0.138393  0.137835  0.137835   0.107739   55686400\n",
       "17  1981-01-08  0.135603  0.135603  0.135045  0.135045   0.105558   39827200\n",
       "18  1981-01-09  0.142299  0.142857  0.142299  0.142299   0.111228   21504000\n",
       "19  1981-01-12  0.142299  0.142299  0.141183  0.141183   0.110356   23699200"
      ]
     },
     "execution_count": 6,
     "metadata": {},
     "output_type": "execute_result"
    }
   ],
   "source": [
    "df.head(20)"
   ]
  },
  {
   "cell_type": "code",
   "execution_count": 7,
   "id": "1ca3419e",
   "metadata": {},
   "outputs": [
    {
     "data": {
      "text/html": [
       "<div>\n",
       "<style scoped>\n",
       "    .dataframe tbody tr th:only-of-type {\n",
       "        vertical-align: middle;\n",
       "    }\n",
       "\n",
       "    .dataframe tbody tr th {\n",
       "        vertical-align: top;\n",
       "    }\n",
       "\n",
       "    .dataframe thead th {\n",
       "        text-align: right;\n",
       "    }\n",
       "</style>\n",
       "<table border=\"1\" class=\"dataframe\">\n",
       "  <thead>\n",
       "    <tr style=\"text-align: right;\">\n",
       "      <th></th>\n",
       "      <th>Date</th>\n",
       "      <th>Open</th>\n",
       "      <th>High</th>\n",
       "      <th>Low</th>\n",
       "      <th>Close</th>\n",
       "      <th>Adj Close</th>\n",
       "      <th>Volume</th>\n",
       "    </tr>\n",
       "  </thead>\n",
       "  <tbody>\n",
       "    <tr>\n",
       "      <th>10399</th>\n",
       "      <td>2022-03-11</td>\n",
       "      <td>158.929993</td>\n",
       "      <td>159.279999</td>\n",
       "      <td>154.500000</td>\n",
       "      <td>154.729996</td>\n",
       "      <td>154.729996</td>\n",
       "      <td>96836300</td>\n",
       "    </tr>\n",
       "    <tr>\n",
       "      <th>10400</th>\n",
       "      <td>2022-03-14</td>\n",
       "      <td>151.449997</td>\n",
       "      <td>154.119995</td>\n",
       "      <td>150.100006</td>\n",
       "      <td>150.619995</td>\n",
       "      <td>150.619995</td>\n",
       "      <td>108732100</td>\n",
       "    </tr>\n",
       "    <tr>\n",
       "      <th>10401</th>\n",
       "      <td>2022-03-15</td>\n",
       "      <td>150.899994</td>\n",
       "      <td>155.570007</td>\n",
       "      <td>150.380005</td>\n",
       "      <td>155.089996</td>\n",
       "      <td>155.089996</td>\n",
       "      <td>92964300</td>\n",
       "    </tr>\n",
       "    <tr>\n",
       "      <th>10402</th>\n",
       "      <td>2022-03-16</td>\n",
       "      <td>157.050003</td>\n",
       "      <td>160.000000</td>\n",
       "      <td>154.460007</td>\n",
       "      <td>159.589996</td>\n",
       "      <td>159.589996</td>\n",
       "      <td>102300200</td>\n",
       "    </tr>\n",
       "    <tr>\n",
       "      <th>10403</th>\n",
       "      <td>2022-03-17</td>\n",
       "      <td>158.610001</td>\n",
       "      <td>161.000000</td>\n",
       "      <td>157.630005</td>\n",
       "      <td>160.619995</td>\n",
       "      <td>160.619995</td>\n",
       "      <td>75615400</td>\n",
       "    </tr>\n",
       "    <tr>\n",
       "      <th>10404</th>\n",
       "      <td>2022-03-18</td>\n",
       "      <td>160.509995</td>\n",
       "      <td>164.479996</td>\n",
       "      <td>159.759995</td>\n",
       "      <td>163.979996</td>\n",
       "      <td>163.979996</td>\n",
       "      <td>123351200</td>\n",
       "    </tr>\n",
       "    <tr>\n",
       "      <th>10405</th>\n",
       "      <td>2022-03-21</td>\n",
       "      <td>163.509995</td>\n",
       "      <td>166.350006</td>\n",
       "      <td>163.009995</td>\n",
       "      <td>165.380005</td>\n",
       "      <td>165.380005</td>\n",
       "      <td>95811400</td>\n",
       "    </tr>\n",
       "    <tr>\n",
       "      <th>10406</th>\n",
       "      <td>2022-03-22</td>\n",
       "      <td>165.509995</td>\n",
       "      <td>169.419998</td>\n",
       "      <td>164.910004</td>\n",
       "      <td>168.820007</td>\n",
       "      <td>168.820007</td>\n",
       "      <td>81532000</td>\n",
       "    </tr>\n",
       "    <tr>\n",
       "      <th>10407</th>\n",
       "      <td>2022-03-23</td>\n",
       "      <td>167.990005</td>\n",
       "      <td>172.639999</td>\n",
       "      <td>167.649994</td>\n",
       "      <td>170.210007</td>\n",
       "      <td>170.210007</td>\n",
       "      <td>98062700</td>\n",
       "    </tr>\n",
       "    <tr>\n",
       "      <th>10408</th>\n",
       "      <td>2022-03-24</td>\n",
       "      <td>171.059998</td>\n",
       "      <td>174.139999</td>\n",
       "      <td>170.210007</td>\n",
       "      <td>174.070007</td>\n",
       "      <td>174.070007</td>\n",
       "      <td>90018700</td>\n",
       "    </tr>\n",
       "  </tbody>\n",
       "</table>\n",
       "</div>"
      ],
      "text/plain": [
       "             Date        Open        High         Low       Close   Adj Close  \\\n",
       "10399  2022-03-11  158.929993  159.279999  154.500000  154.729996  154.729996   \n",
       "10400  2022-03-14  151.449997  154.119995  150.100006  150.619995  150.619995   \n",
       "10401  2022-03-15  150.899994  155.570007  150.380005  155.089996  155.089996   \n",
       "10402  2022-03-16  157.050003  160.000000  154.460007  159.589996  159.589996   \n",
       "10403  2022-03-17  158.610001  161.000000  157.630005  160.619995  160.619995   \n",
       "10404  2022-03-18  160.509995  164.479996  159.759995  163.979996  163.979996   \n",
       "10405  2022-03-21  163.509995  166.350006  163.009995  165.380005  165.380005   \n",
       "10406  2022-03-22  165.509995  169.419998  164.910004  168.820007  168.820007   \n",
       "10407  2022-03-23  167.990005  172.639999  167.649994  170.210007  170.210007   \n",
       "10408  2022-03-24  171.059998  174.139999  170.210007  174.070007  174.070007   \n",
       "\n",
       "          Volume  \n",
       "10399   96836300  \n",
       "10400  108732100  \n",
       "10401   92964300  \n",
       "10402  102300200  \n",
       "10403   75615400  \n",
       "10404  123351200  \n",
       "10405   95811400  \n",
       "10406   81532000  \n",
       "10407   98062700  \n",
       "10408   90018700  "
      ]
     },
     "execution_count": 7,
     "metadata": {},
     "output_type": "execute_result"
    }
   ],
   "source": [
    "df.tail(10)"
   ]
  },
  {
   "cell_type": "code",
   "execution_count": 8,
   "id": "64cc4c9a",
   "metadata": {},
   "outputs": [
    {
     "data": {
      "image/png": "[encoded data removed]",
      "text/plain": [
       "<Figure size 1600x800 with 1 Axes>"
      ]
     },
     "metadata": {},
     "output_type": "display_data"
    }
   ],
   "source": [
    "plt.figure(figsize=(16,8))\n",
    "plt.title('Apple Stock Price History')\n",
    "plt.plot(df['Date'], df['Close'])\n",
    "plt.xlabel('Date')\n",
    "plt.ylabel('Close Price USD')\n",
    "plt.show()"
   ]
  },
  {
   "cell_type": "code",
   "execution_count": 35,
   "id": "2c5a699c",
   "metadata": {},
   "outputs": [
    {
     "data": {
      "image/png": "[encoded data removed]",
      "text/plain": [
       "<Figure size 1000x600 with 2 Axes>"
      ]
     },
     "metadata": {},
     "output_type": "display_data"
    }
   ],
   "source": [
    "plt.figure(figsize=(10, 6))\n",
    "correlation_matrix = df.drop(['Date'], axis=1).corr()\n",
    "sns.heatmap(correlation_matrix, annot=True)\n",
    "plt.show()"
   ]
  },
  {
   "cell_type": "code",
   "execution_count": 36,
   "id": "ca755ab4",
   "metadata": {},
   "outputs": [],
   "source": [
    "df['Date'] = pd.to_datetime(df['Date'])\n",
    "df.sort_values('Date', inplace=True)\n",
    "data = df.filter(['Close']).values"
   ]
  },
  {
   "cell_type": "code",
   "execution_count": 37,
   "id": "07724802",
   "metadata": {},
   "outputs": [],
   "source": [
    "scaler = MinMaxScaler(feature_range=(0, 1))\n",
    "scaled_data = scaler.fit_transform(data)"
   ]
  },
  {
   "cell_type": "code",
   "execution_count": 38,
   "id": "a301f7a2",
   "metadata": {},
   "outputs": [],
   "source": [
    "training_data_len = int(np.ceil(len(data) * 0.8))"
   ]
  },
  {
   "cell_type": "code",
   "execution_count": 39,
   "id": "f6c4d501",
   "metadata": {},
   "outputs": [],
   "source": [
    "train_data = scaled_data[0:training_data_len, :]"
   ]
  },
  {
   "cell_type": "code",
   "execution_count": 40,
   "id": "85108cc6",
   "metadata": {},
   "outputs": [],
   "source": [
    "x_train = []\n",
    "y_train = []\n",
    "\n",
    "for i in range(60, len(train_data)):\n",
    "    x_train.append(train_data[i-60:i, 0])\n",
    "    y_train.append(train_data[i, 0])"
   ]
  },
  {
   "cell_type": "code",
   "execution_count": 41,
   "id": "1f5e9577",
   "metadata": {},
   "outputs": [],
   "source": [
    "x_train, y_train = np.array(x_train), np.array(y_train)"
   ]
  },
  {
   "cell_type": "code",
   "execution_count": 42,
   "id": "c19c2b40",
   "metadata": {},
   "outputs": [
    {
     "data": {
      "text/plain": [
       "array([[0.00043548, 0.00039868, 0.00034961, ..., 0.00035881, 0.00030975,\n",
       "        0.00028214],\n",
       "       [0.00039868, 0.00034961, 0.00036495, ..., 0.00030975, 0.00028214,\n",
       "        0.00026068],\n",
       "       [0.00034961, 0.00036495, 0.00038335, ..., 0.00028214, 0.00026068,\n",
       "        0.00028214],\n",
       "       ...,\n",
       "       [0.09243058, 0.09147079, 0.09603026, ..., 0.11073318, 0.10991078,\n",
       "        0.10974984],\n",
       "       [0.09147079, 0.09603026, 0.09572799, ..., 0.10991078, 0.10974984,\n",
       "        0.1085506 ],\n",
       "       [0.09603026, 0.09572799, 0.09424219, ..., 0.10974984, 0.1085506 ,\n",
       "        0.10915316]])"
      ]
     },
     "execution_count": 42,
     "metadata": {},
     "output_type": "execute_result"
    }
   ],
   "source": [
    "x_train"
   ]
  },
  {
   "cell_type": "code",
   "execution_count": 43,
   "id": "9bda2039",
   "metadata": {},
   "outputs": [
    {
     "data": {
      "text/plain": [
       "array([0.00026068, 0.00028214, 0.00027601, ..., 0.1085506 , 0.10915316,\n",
       "       0.10866052])"
      ]
     },
     "execution_count": 43,
     "metadata": {},
     "output_type": "execute_result"
    }
   ],
   "source": [
    "y_train"
   ]
  },
  {
   "cell_type": "code",
   "execution_count": 44,
   "id": "75b369bc",
   "metadata": {},
   "outputs": [
    {
     "data": {
      "text/plain": [
       "(8268, 60, 1)"
      ]
     },
     "execution_count": 44,
     "metadata": {},
     "output_type": "execute_result"
    }
   ],
   "source": [
    "x_train = np.reshape(x_train, (x_train.shape[0], x_train.shape[1], 1))\n",
    "x_train.shape"
   ]
  },
  {
   "cell_type": "code",
   "execution_count": 45,
   "id": "d7ab0c3f",
   "metadata": {},
   "outputs": [
    {
     "name": "stderr",
     "output_type": "stream",
     "text": [
      "C:\\Users\\Pavan.M\\AppData\\Roaming\\Python\\Python311\\site-packages\\keras\\src\\layers\\rnn\\rnn.py:204: UserWarning: Do not pass an `input_shape`/`input_dim` argument to a layer. When using Sequential models, prefer using an `Input(shape)` object as the first layer in the model instead.\n",
      "  super().__init__(**kwargs)\n"
     ]
    }
   ],
   "source": [
    "model = Sequential()\n",
    "model.add(LSTM(50, return_sequences=True, input_shape=(x_train.shape[1], 1)))\n",
    "model.add(LSTM(50, return_sequences=False))\n",
    "model.add(Dense(25))\n",
    "model.add(Dense(1))"
   ]
  },
  {
   "cell_type": "code",
   "execution_count": 46,
   "id": "fbb55bd1",
   "metadata": {},
   "outputs": [],
   "source": [
    "model.compile(optimizer='adam', loss='mean_squared_error')"
   ]
  },
  {
   "cell_type": "code",
   "execution_count": 47,
   "id": "cb868c00",
   "metadata": {},
   "outputs": [
    {
     "name": "stdout",
     "output_type": "stream",
     "text": [
      "Epoch 1/5\n",
      "\u001b[1m2756/2756\u001b[0m \u001b[32m━━━━━━━━━━━━━━━━━━━━\u001b[0m\u001b[37m\u001b[0m \u001b[1m55s\u001b[0m 19ms/step - loss: 2.6564e-05\n",
      "Epoch 2/5\n",
      "\u001b[1m2756/2756\u001b[0m \u001b[32m━━━━━━━━━━━━━━━━━━━━\u001b[0m\u001b[37m\u001b[0m \u001b[1m53s\u001b[0m 19ms/step - loss: 5.5770e-06\n",
      "Epoch 3/5\n",
      "\u001b[1m2756/2756\u001b[0m \u001b[32m━━━━━━━━━━━━━━━━━━━━\u001b[0m\u001b[37m\u001b[0m \u001b[1m53s\u001b[0m 19ms/step - loss: 4.4547e-06\n",
      "Epoch 4/5\n",
      "\u001b[1m2756/2756\u001b[0m \u001b[32m━━━━━━━━━━━━━━━━━━━━\u001b[0m\u001b[37m\u001b[0m \u001b[1m52s\u001b[0m 19ms/step - loss: 3.3216e-06\n",
      "Epoch 5/5\n",
      "\u001b[1m2756/2756\u001b[0m \u001b[32m━━━━━━━━━━━━━━━━━━━━\u001b[0m\u001b[37m\u001b[0m \u001b[1m54s\u001b[0m 20ms/step - loss: 4.4365e-06\n"
     ]
    }
   ],
   "source": [
    "history = model.fit(x_train, y_train, batch_size=3, epochs=5)"
   ]
  },
  {
   "cell_type": "code",
   "execution_count": 48,
   "id": "1f24601d",
   "metadata": {},
   "outputs": [
    {
     "data": {
      "image/png": "[encoded data removed]",
      "text/plain": [
       "<Figure size 1000x600 with 1 Axes>"
      ]
     },
     "metadata": {},
     "output_type": "display_data"
    }
   ],
   "source": [
    "plt.figure(figsize=(10, 6))\n",
    "plt.plot(history.history['loss'])\n",
    "plt.title('Model Training Loss')\n",
    "plt.xlabel('Epoch')\n",
    "plt.ylabel('Loss')\n",
    "plt.show()"
   ]
  },
  {
   "cell_type": "code",
   "execution_count": 49,
   "id": "33fcf885",
   "metadata": {},
   "outputs": [],
   "source": [
    "test_data = scaled_data[training_data_len - 60:, :]\n",
    "x_test = []\n",
    "y_test = data[training_data_len:, :]\n",
    "\n",
    "for i in range(60, len(test_data)):\n",
    "    x_test.append(test_data[i-60:i, 0])"
   ]
  },
  {
   "cell_type": "code",
   "execution_count": 50,
   "id": "9af163a1",
   "metadata": {},
   "outputs": [
    {
     "data": {
      "text/plain": [
       "array([[0.09572799],\n",
       "       [0.09424219],\n",
       "       [0.09516272],\n",
       "       ...,\n",
       "       [0.92751196],\n",
       "       [0.93515096],\n",
       "       [0.95636431]])"
      ]
     },
     "execution_count": 50,
     "metadata": {},
     "output_type": "execute_result"
    }
   ],
   "source": [
    "test_data"
   ]
  },
  {
   "cell_type": "code",
   "execution_count": 51,
   "id": "32d97d8b",
   "metadata": {},
   "outputs": [
    {
     "data": {
      "text/plain": [
       "array([[0.09572799, 0.09424219, 0.09516272, ..., 0.1085506 , 0.10915316,\n",
       "        0.10866052],\n",
       "       [0.09424219, 0.09516272, 0.09448165, ..., 0.10915316, 0.10866052,\n",
       "        0.10783224],\n",
       "       [0.09516272, 0.09448165, 0.09330401, ..., 0.10866052, 0.10783224,\n",
       "        0.10659375],\n",
       "       ...,\n",
       "       [0.96850974, 0.99076729, 0.98505172, ..., 0.88244727, 0.90091278,\n",
       "        0.90860679],\n",
       "       [0.99076729, 0.98505172, 0.9855464 , ..., 0.90091278, 0.90860679,\n",
       "        0.92751196],\n",
       "       [0.98505172, 0.9855464 , 0.97906145, ..., 0.90860679, 0.92751196,\n",
       "        0.93515096]])"
      ]
     },
     "execution_count": 51,
     "metadata": {},
     "output_type": "execute_result"
    }
   ],
   "source": [
    "x_test = np.array(x_test)\n",
    "x_test"
   ]
  },
  {
   "cell_type": "code",
   "execution_count": 52,
   "id": "7542fc4e",
   "metadata": {},
   "outputs": [],
   "source": [
    "x_test = np.reshape(x_test, (x_test.shape[0], x_test.shape[1], 1))"
   ]
  },
  {
   "cell_type": "code",
   "execution_count": 53,
   "id": "9d06b692",
   "metadata": {},
   "outputs": [
    {
     "data": {
      "text/plain": [
       "(2081, 60, 1)"
      ]
     },
     "execution_count": 53,
     "metadata": {},
     "output_type": "execute_result"
    }
   ],
   "source": [
    "x_test.shape"
   ]
  },
  {
   "cell_type": "code",
   "execution_count": 54,
   "id": "facefcfc",
   "metadata": {},
   "outputs": [
    {
     "name": "stdout",
     "output_type": "stream",
     "text": [
      "\u001b[1m66/66\u001b[0m \u001b[32m━━━━━━━━━━━━━━━━━━━━\u001b[0m\u001b[37m\u001b[0m \u001b[1m1s\u001b[0m 17ms/step\n"
     ]
    }
   ],
   "source": [
    "predictions = model.predict(x_test)\n",
    "predictions = scaler.inverse_transform(predictions)"
   ]
  },
  {
   "cell_type": "code",
   "execution_count": 55,
   "id": "1d0306e6",
   "metadata": {},
   "outputs": [
    {
     "data": {
      "text/plain": [
       "array([[ 20.133286],\n",
       "       [ 20.05754 ],\n",
       "       [ 19.899155],\n",
       "       ...,\n",
       "       [143.07355 ],\n",
       "       [145.02603 ],\n",
       "       [146.31157 ]], dtype=float32)"
      ]
     },
     "execution_count": 55,
     "metadata": {},
     "output_type": "execute_result"
    }
   ],
   "source": [
    "predictions"
   ]
  },
  {
   "cell_type": "code",
   "execution_count": 56,
   "id": "a1d9d70d",
   "metadata": {},
   "outputs": [
    {
     "name": "stderr",
     "output_type": "stream",
     "text": [
      "C:\\Users\\Pavan.M\\AppData\\Local\\Temp\\ipykernel_16124\\1547019378.py:3: SettingWithCopyWarning: \n",
      "A value is trying to be set on a copy of a slice from a DataFrame.\n",
      "Try using .loc[row_indexer,col_indexer] = value instead\n",
      "\n",
      "See the caveats in the documentation: https://pandas.pydata.org/pandas-docs/stable/user_guide/indexing.html#returning-a-view-versus-a-copy\n",
      "  valid['Predictions'] = predictions\n"
     ]
    },
    {
     "data": {
      "image/png": "[encoded data removed]",
      "text/plain": [
       "<Figure size 1600x800 with 1 Axes>"
      ]
     },
     "metadata": {},
     "output_type": "display_data"
    }
   ],
   "source": [
    "train = df[:training_data_len]\n",
    "valid = df[training_data_len:]\n",
    "valid['Predictions'] = predictions\n",
    "\n",
    "plt.figure(figsize=(16, 8))\n",
    "plt.title('Model')\n",
    "plt.xlabel('Date')\n",
    "plt.ylabel('Close Price USD ($)')\n",
    "plt.plot(train['Date'], train['Close'])\n",
    "plt.plot(valid['Date'], valid[['Close', 'Predictions']])\n",
    "plt.legend(['Train', 'Val', 'Predictions'], loc='lower right')\n",
    "plt.show()"
   ]
  },
  {
   "cell_type": "code",
   "execution_count": 57,
   "id": "68ce8805",
   "metadata": {},
   "outputs": [
    {
     "data": {
      "text/html": [
       "<div>\n",
       "<style scoped>\n",
       "    .dataframe tbody tr th:only-of-type {\n",
       "        vertical-align: middle;\n",
       "    }\n",
       "\n",
       "    .dataframe tbody tr th {\n",
       "        vertical-align: top;\n",
       "    }\n",
       "\n",
       "    .dataframe thead th {\n",
       "        text-align: right;\n",
       "    }\n",
       "</style>\n",
       "<table border=\"1\" class=\"dataframe\">\n",
       "  <thead>\n",
       "    <tr style=\"text-align: right;\">\n",
       "      <th></th>\n",
       "      <th>Date</th>\n",
       "      <th>Open</th>\n",
       "      <th>High</th>\n",
       "      <th>Low</th>\n",
       "      <th>Close</th>\n",
       "      <th>Adj Close</th>\n",
       "      <th>Volume</th>\n",
       "      <th>Predictions</th>\n",
       "    </tr>\n",
       "  </thead>\n",
       "  <tbody>\n",
       "    <tr>\n",
       "      <th>8328</th>\n",
       "      <td>2013-12-18</td>\n",
       "      <td>19.632143</td>\n",
       "      <td>19.694643</td>\n",
       "      <td>19.242857</td>\n",
       "      <td>19.670357</td>\n",
       "      <td>17.419680</td>\n",
       "      <td>565863200</td>\n",
       "      <td>20.133286</td>\n",
       "    </tr>\n",
       "    <tr>\n",
       "      <th>8329</th>\n",
       "      <td>2013-12-19</td>\n",
       "      <td>19.625000</td>\n",
       "      <td>19.642857</td>\n",
       "      <td>19.418928</td>\n",
       "      <td>19.445000</td>\n",
       "      <td>17.220104</td>\n",
       "      <td>320308800</td>\n",
       "      <td>20.057541</td>\n",
       "    </tr>\n",
       "    <tr>\n",
       "      <th>8330</th>\n",
       "      <td>2013-12-20</td>\n",
       "      <td>19.479643</td>\n",
       "      <td>19.700357</td>\n",
       "      <td>19.457857</td>\n",
       "      <td>19.607857</td>\n",
       "      <td>17.364323</td>\n",
       "      <td>436413600</td>\n",
       "      <td>19.899155</td>\n",
       "    </tr>\n",
       "    <tr>\n",
       "      <th>8331</th>\n",
       "      <td>2013-12-23</td>\n",
       "      <td>20.285713</td>\n",
       "      <td>20.382856</td>\n",
       "      <td>20.098572</td>\n",
       "      <td>20.360357</td>\n",
       "      <td>18.030731</td>\n",
       "      <td>501306400</td>\n",
       "      <td>19.899021</td>\n",
       "    </tr>\n",
       "    <tr>\n",
       "      <th>8332</th>\n",
       "      <td>2013-12-24</td>\n",
       "      <td>20.353214</td>\n",
       "      <td>20.424286</td>\n",
       "      <td>20.215357</td>\n",
       "      <td>20.273930</td>\n",
       "      <td>17.954189</td>\n",
       "      <td>167554800</td>\n",
       "      <td>20.328161</td>\n",
       "    </tr>\n",
       "    <tr>\n",
       "      <th>8333</th>\n",
       "      <td>2013-12-26</td>\n",
       "      <td>20.289286</td>\n",
       "      <td>20.339287</td>\n",
       "      <td>20.120714</td>\n",
       "      <td>20.139286</td>\n",
       "      <td>17.834953</td>\n",
       "      <td>204008000</td>\n",
       "      <td>20.571407</td>\n",
       "    </tr>\n",
       "    <tr>\n",
       "      <th>8334</th>\n",
       "      <td>2013-12-27</td>\n",
       "      <td>20.136429</td>\n",
       "      <td>20.157499</td>\n",
       "      <td>19.982143</td>\n",
       "      <td>20.003214</td>\n",
       "      <td>17.714447</td>\n",
       "      <td>225884400</td>\n",
       "      <td>20.578539</td>\n",
       "    </tr>\n",
       "    <tr>\n",
       "      <th>8335</th>\n",
       "      <td>2013-12-30</td>\n",
       "      <td>19.909286</td>\n",
       "      <td>20.003214</td>\n",
       "      <td>19.725714</td>\n",
       "      <td>19.804285</td>\n",
       "      <td>17.538282</td>\n",
       "      <td>253629600</td>\n",
       "      <td>20.447916</td>\n",
       "    </tr>\n",
       "    <tr>\n",
       "      <th>8336</th>\n",
       "      <td>2013-12-31</td>\n",
       "      <td>19.791786</td>\n",
       "      <td>20.045713</td>\n",
       "      <td>19.785713</td>\n",
       "      <td>20.036428</td>\n",
       "      <td>17.743862</td>\n",
       "      <td>223084400</td>\n",
       "      <td>20.238276</td>\n",
       "    </tr>\n",
       "    <tr>\n",
       "      <th>8337</th>\n",
       "      <td>2014-01-02</td>\n",
       "      <td>19.845715</td>\n",
       "      <td>19.893929</td>\n",
       "      <td>19.715000</td>\n",
       "      <td>19.754642</td>\n",
       "      <td>17.494324</td>\n",
       "      <td>234684800</td>\n",
       "      <td>20.238707</td>\n",
       "    </tr>\n",
       "  </tbody>\n",
       "</table>\n",
       "</div>"
      ],
      "text/plain": [
       "           Date       Open       High        Low      Close  Adj Close  \\\n",
       "8328 2013-12-18  19.632143  19.694643  19.242857  19.670357  17.419680   \n",
       "8329 2013-12-19  19.625000  19.642857  19.418928  19.445000  17.220104   \n",
       "8330 2013-12-20  19.479643  19.700357  19.457857  19.607857  17.364323   \n",
       "8331 2013-12-23  20.285713  20.382856  20.098572  20.360357  18.030731   \n",
       "8332 2013-12-24  20.353214  20.424286  20.215357  20.273930  17.954189   \n",
       "8333 2013-12-26  20.289286  20.339287  20.120714  20.139286  17.834953   \n",
       "8334 2013-12-27  20.136429  20.157499  19.982143  20.003214  17.714447   \n",
       "8335 2013-12-30  19.909286  20.003214  19.725714  19.804285  17.538282   \n",
       "8336 2013-12-31  19.791786  20.045713  19.785713  20.036428  17.743862   \n",
       "8337 2014-01-02  19.845715  19.893929  19.715000  19.754642  17.494324   \n",
       "\n",
       "         Volume  Predictions  \n",
       "8328  565863200    20.133286  \n",
       "8329  320308800    20.057541  \n",
       "8330  436413600    19.899155  \n",
       "8331  501306400    19.899021  \n",
       "8332  167554800    20.328161  \n",
       "8333  204008000    20.571407  \n",
       "8334  225884400    20.578539  \n",
       "8335  253629600    20.447916  \n",
       "8336  223084400    20.238276  \n",
       "8337  234684800    20.238707  "
      ]
     },
     "execution_count": 57,
     "metadata": {},
     "output_type": "execute_result"
    }
   ],
   "source": [
    "valid.head(10)"
   ]
  },
  {
   "cell_type": "code",
   "execution_count": 58,
   "id": "62e9e88e",
   "metadata": {},
   "outputs": [
    {
     "data": {
      "text/html": [
       "<div>\n",
       "<style scoped>\n",
       "    .dataframe tbody tr th:only-of-type {\n",
       "        vertical-align: middle;\n",
       "    }\n",
       "\n",
       "    .dataframe tbody tr th {\n",
       "        vertical-align: top;\n",
       "    }\n",
       "\n",
       "    .dataframe thead th {\n",
       "        text-align: right;\n",
       "    }\n",
       "</style>\n",
       "<table border=\"1\" class=\"dataframe\">\n",
       "  <thead>\n",
       "    <tr style=\"text-align: right;\">\n",
       "      <th></th>\n",
       "      <th>Date</th>\n",
       "      <th>Open</th>\n",
       "      <th>High</th>\n",
       "      <th>Low</th>\n",
       "      <th>Close</th>\n",
       "      <th>Adj Close</th>\n",
       "      <th>Volume</th>\n",
       "      <th>Predictions</th>\n",
       "    </tr>\n",
       "  </thead>\n",
       "  <tbody>\n",
       "    <tr>\n",
       "      <th>10399</th>\n",
       "      <td>2022-03-11</td>\n",
       "      <td>158.929993</td>\n",
       "      <td>159.279999</td>\n",
       "      <td>154.500000</td>\n",
       "      <td>154.729996</td>\n",
       "      <td>154.729996</td>\n",
       "      <td>96836300</td>\n",
       "      <td>137.994736</td>\n",
       "    </tr>\n",
       "    <tr>\n",
       "      <th>10400</th>\n",
       "      <td>2022-03-14</td>\n",
       "      <td>151.449997</td>\n",
       "      <td>154.119995</td>\n",
       "      <td>150.100006</td>\n",
       "      <td>150.619995</td>\n",
       "      <td>150.619995</td>\n",
       "      <td>108732100</td>\n",
       "      <td>135.858414</td>\n",
       "    </tr>\n",
       "    <tr>\n",
       "      <th>10401</th>\n",
       "      <td>2022-03-15</td>\n",
       "      <td>150.899994</td>\n",
       "      <td>155.570007</td>\n",
       "      <td>150.380005</td>\n",
       "      <td>155.089996</td>\n",
       "      <td>155.089996</td>\n",
       "      <td>92964300</td>\n",
       "      <td>132.832809</td>\n",
       "    </tr>\n",
       "    <tr>\n",
       "      <th>10402</th>\n",
       "      <td>2022-03-16</td>\n",
       "      <td>157.050003</td>\n",
       "      <td>160.000000</td>\n",
       "      <td>154.460007</td>\n",
       "      <td>159.589996</td>\n",
       "      <td>159.589996</td>\n",
       "      <td>102300200</td>\n",
       "      <td>133.477310</td>\n",
       "    </tr>\n",
       "    <tr>\n",
       "      <th>10403</th>\n",
       "      <td>2022-03-17</td>\n",
       "      <td>158.610001</td>\n",
       "      <td>161.000000</td>\n",
       "      <td>157.630005</td>\n",
       "      <td>160.619995</td>\n",
       "      <td>160.619995</td>\n",
       "      <td>75615400</td>\n",
       "      <td>136.516434</td>\n",
       "    </tr>\n",
       "    <tr>\n",
       "      <th>10404</th>\n",
       "      <td>2022-03-18</td>\n",
       "      <td>160.509995</td>\n",
       "      <td>164.479996</td>\n",
       "      <td>159.759995</td>\n",
       "      <td>163.979996</td>\n",
       "      <td>163.979996</td>\n",
       "      <td>123351200</td>\n",
       "      <td>138.888046</td>\n",
       "    </tr>\n",
       "    <tr>\n",
       "      <th>10405</th>\n",
       "      <td>2022-03-21</td>\n",
       "      <td>163.509995</td>\n",
       "      <td>166.350006</td>\n",
       "      <td>163.009995</td>\n",
       "      <td>165.380005</td>\n",
       "      <td>165.380005</td>\n",
       "      <td>95811400</td>\n",
       "      <td>141.422058</td>\n",
       "    </tr>\n",
       "    <tr>\n",
       "      <th>10406</th>\n",
       "      <td>2022-03-22</td>\n",
       "      <td>165.509995</td>\n",
       "      <td>169.419998</td>\n",
       "      <td>164.910004</td>\n",
       "      <td>168.820007</td>\n",
       "      <td>168.820007</td>\n",
       "      <td>81532000</td>\n",
       "      <td>143.073547</td>\n",
       "    </tr>\n",
       "    <tr>\n",
       "      <th>10407</th>\n",
       "      <td>2022-03-23</td>\n",
       "      <td>167.990005</td>\n",
       "      <td>172.639999</td>\n",
       "      <td>167.649994</td>\n",
       "      <td>170.210007</td>\n",
       "      <td>170.210007</td>\n",
       "      <td>98062700</td>\n",
       "      <td>145.026031</td>\n",
       "    </tr>\n",
       "    <tr>\n",
       "      <th>10408</th>\n",
       "      <td>2022-03-24</td>\n",
       "      <td>171.059998</td>\n",
       "      <td>174.139999</td>\n",
       "      <td>170.210007</td>\n",
       "      <td>174.070007</td>\n",
       "      <td>174.070007</td>\n",
       "      <td>90018700</td>\n",
       "      <td>146.311569</td>\n",
       "    </tr>\n",
       "  </tbody>\n",
       "</table>\n",
       "</div>"
      ],
      "text/plain": [
       "            Date        Open        High         Low       Close   Adj Close  \\\n",
       "10399 2022-03-11  158.929993  159.279999  154.500000  154.729996  154.729996   \n",
       "10400 2022-03-14  151.449997  154.119995  150.100006  150.619995  150.619995   \n",
       "10401 2022-03-15  150.899994  155.570007  150.380005  155.089996  155.089996   \n",
       "10402 2022-03-16  157.050003  160.000000  154.460007  159.589996  159.589996   \n",
       "10403 2022-03-17  158.610001  161.000000  157.630005  160.619995  160.619995   \n",
       "10404 2022-03-18  160.509995  164.479996  159.759995  163.979996  163.979996   \n",
       "10405 2022-03-21  163.509995  166.350006  163.009995  165.380005  165.380005   \n",
       "10406 2022-03-22  165.509995  169.419998  164.910004  168.820007  168.820007   \n",
       "10407 2022-03-23  167.990005  172.639999  167.649994  170.210007  170.210007   \n",
       "10408 2022-03-24  171.059998  174.139999  170.210007  174.070007  174.070007   \n",
       "\n",
       "          Volume  Predictions  \n",
       "10399   96836300   137.994736  \n",
       "10400  108732100   135.858414  \n",
       "10401   92964300   132.832809  \n",
       "10402  102300200   133.477310  \n",
       "10403   75615400   136.516434  \n",
       "10404  123351200   138.888046  \n",
       "10405   95811400   141.422058  \n",
       "10406   81532000   143.073547  \n",
       "10407   98062700   145.026031  \n",
       "10408   90018700   146.311569  "
      ]
     },
     "execution_count": 58,
     "metadata": {},
     "output_type": "execute_result"
    }
   ],
   "source": [
    "valid.tail(10)"
   ]
  }
 ],
 "metadata": {
  "kernelspec": {
   "display_name": "Python 3 (ipykernel)",
   "language": "python",
   "name": "python3"
  },
  "language_info": {
   "codemirror_mode": {
    "name": "ipython",
    "version": 3
   },
   "file_extension": ".py",
   "mimetype": "text/x-python",
   "name": "python",
   "nbconvert_exporter": "python",
   "pygments_lexer": "ipython3",
   "version": "3.11.5"
  }
 },
 "nbformat": 4,
 "nbformat_minor": 5
}
